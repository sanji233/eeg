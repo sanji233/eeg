{
 "cells": [
  {
   "cell_type": "code",
   "execution_count": null,
   "id": "285b6d5a",
   "metadata": {},
   "outputs": [],
   "source": [
    "import pandas as pd"
   ]
  },
  {
   "cell_type": "code",
   "execution_count": null,
   "id": "dd6e263b",
   "metadata": {},
   "outputs": [],
   "source": [
    "df = pd.read_csv('D:\\data\\code\\eeg\\OpenViBE\\data\\TEST\\motor-imagery-1-[2025.04.20-12.14.27].csv')\n",
    "df.drop(columns=[\"Channel 9\", \"Channel 10\", \"Channel 11\"], inplace=True)"
   ]
  }
 ],
 "metadata": {
  "language_info": {
   "name": "python"
  }
 },
 "nbformat": 4,
 "nbformat_minor": 5
}
